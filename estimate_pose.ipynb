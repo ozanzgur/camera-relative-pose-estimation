{
 "cells": [
  {
   "cell_type": "markdown",
   "source": [
    "## Imports"
   ],
   "metadata": {}
  },
  {
   "cell_type": "code",
   "execution_count": 1,
   "source": [
    "import cv2\r\n",
    "import numpy as np\r\n",
    "import matplotlib.pyplot as plt\r\n",
    "import camera_parameters\r\n",
    "from relative_pose_estimator import RelativePoseEstimator"
   ],
   "outputs": [],
   "metadata": {}
  },
  {
   "cell_type": "markdown",
   "source": [
    "## 1- Get Camera Parameters"
   ],
   "metadata": {}
  },
  {
   "cell_type": "code",
   "execution_count": 2,
   "source": [
    "cp = camera_parameters.CameraParameters(display = True)"
   ],
   "outputs": [
    {
     "output_type": "stream",
     "name": "stdout",
     "text": [
      " Camera matrix:\n",
      "[[762.97423878   0.         958.41482973]\n",
      " [  0.         759.93736391 538.25401047]\n",
      " [  0.           0.           1.        ]]\n"
     ]
    }
   ],
   "metadata": {}
  },
  {
   "cell_type": "markdown",
   "source": [
    "## 2- Load Images"
   ],
   "metadata": {}
  },
  {
   "cell_type": "code",
   "execution_count": 3,
   "source": [
    "img1 = cv2.imread('data/img1.png', cv2.IMREAD_GRAYSCALE)\r\n",
    "img2 = cv2.imread('data/img2.png', cv2.IMREAD_GRAYSCALE)\r\n",
    "img3 = cv2.imread('data/img3.png', cv2.IMREAD_GRAYSCALE)\r\n",
    "print(img1.shape)"
   ],
   "outputs": [
    {
     "output_type": "stream",
     "name": "stdout",
     "text": [
      "(1080, 1920)\n"
     ]
    }
   ],
   "metadata": {}
  },
  {
   "cell_type": "markdown",
   "source": [
    "## 3 - Initialization"
   ],
   "metadata": {}
  },
  {
   "cell_type": "code",
   "execution_count": 4,
   "source": [
    "# Initialize tracker and get feature points from the first frame\r\n",
    "pose_estimator = RelativePoseEstimator(cp, img1)\r\n",
    "poses = []"
   ],
   "outputs": [],
   "metadata": {}
  },
  {
   "cell_type": "markdown",
   "source": [
    "## 4 - Estimate Relative Camera Pose"
   ],
   "metadata": {}
  },
  {
   "cell_type": "code",
   "execution_count": 5,
   "source": [
    "# Pose in img2 relative to img1\r\n",
    "pose = pose_estimator.process_next(img2)\r\n",
    "poses.append(pose)\r\n",
    "print(f'translation:\\n{pose[0]}\\nrotation:\\n{pose[1]}')"
   ],
   "outputs": [
    {
     "output_type": "stream",
     "name": "stdout",
     "text": [
      "translation:\n",
      "[0.79122082 0.00162088 0.6115284 ]\n",
      "rotation:\n",
      "[ 0.00036276 -0.00638585 -0.00061673]\n"
     ]
    }
   ],
   "metadata": {}
  },
  {
   "cell_type": "code",
   "execution_count": 6,
   "source": [
    "# Pose in img3 relative to img2\r\n",
    "pose = pose_estimator.process_next(img3)\r\n",
    "poses.append(pose)\r\n",
    "print(f'translation:\\n{pose[0]}\\nrotation:\\n{pose[1]}')"
   ],
   "outputs": [
    {
     "output_type": "stream",
     "name": "stdout",
     "text": [
      "translation:\n",
      "[-0.46403523 -0.20999017  0.86056692]\n",
      "rotation:\n",
      "[-0.02107321  0.24349541  0.03245208]\n"
     ]
    }
   ],
   "metadata": {}
  },
  {
   "cell_type": "markdown",
   "source": [
    "## 5- Plot Trajectory"
   ],
   "metadata": {}
  },
  {
   "cell_type": "code",
   "execution_count": 7,
   "source": [
    "# Get x and z translations\r\n",
    "x_trajectory = [0]\r\n",
    "z_trajectory = [0]\r\n",
    "\r\n",
    "# Accumulate poses to make them relative to the first frame(img1)\r\n",
    "for p in poses:\r\n",
    "    x_trajectory.append(x_trajectory[-1] + p[0][0])\r\n",
    "    z_trajectory.append(z_trajectory[-1] + p[0][2])"
   ],
   "outputs": [],
   "metadata": {}
  },
  {
   "cell_type": "code",
   "execution_count": 14,
   "source": [
    "fig = plt.figure(figsize = (6, 6))\r\n",
    "plt.plot(x_trajectory, z_trajectory)\r\n",
    "plt.title('Trajectory')\r\n",
    "plt.xlabel('x-axis')\r\n",
    "plt.ylabel('z-axis')\r\n",
    "plt.xlim([-0.5, 1.5])\r\n",
    "plt.ylim([-0.25, 1.75])\r\n",
    "plt.gca().set_aspect('equal')"
   ],
   "outputs": [
    {
     "output_type": "display_data",
     "data": {
      "image/png": "[encoded data removed]",
      "text/plain": [
       "<Figure size 432x432 with 1 Axes>"
      ]
     },
     "metadata": {
      "needs_background": "light"
     }
    }
   ],
   "metadata": {}
  },
  {
   "cell_type": "code",
   "execution_count": null,
   "source": [],
   "outputs": [],
   "metadata": {}
  }
 ],
 "metadata": {
  "orig_nbformat": 4,
  "language_info": {
   "name": "python",
   "version": "3.8.8",
   "mimetype": "text/x-python",
   "codemirror_mode": {
    "name": "ipython",
    "version": 3
   },
   "pygments_lexer": "ipython3",
   "nbconvert_exporter": "python",
   "file_extension": ".py"
  },
  "kernelspec": {
   "name": "python3",
   "display_name": "Python 3.8.8 64-bit ('torch': conda)"
  },
  "interpreter": {
   "hash": "1b4c7016e99d31c2e7c892573dc93dbd4548eb0a0f5dca22fbf3a690830b4e66"
  }
 },
 "nbformat": 4,
 "nbformat_minor": 2
}